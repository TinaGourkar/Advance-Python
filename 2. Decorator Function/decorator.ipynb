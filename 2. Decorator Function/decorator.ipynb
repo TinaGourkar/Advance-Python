{
 "cells": [
  {
   "cell_type": "markdown",
   "metadata": {},
   "source": [
    "# Decorator \n",
    "1. used to modify behaviour of a function\n",
    "2. I/P of decorator can be any function\n",
    "3. O/P is known as wrapper\n",
    "- decorator - take function as input and give output a function as well also known as wrapper\n",
    "- @welcome is a name of a decorator i.e @ is used to call and apply decorator "
   ]
  },
  {
   "cell_type": "markdown",
   "metadata": {},
   "source": [
    "### Create a decorator function that will welcome and thank the user"
   ]
  },
  {
   "cell_type": "code",
   "execution_count": 4,
   "metadata": {},
   "outputs": [],
   "source": [
    "def user(func):\n",
    "    def wrapper(*args,**kwargs):\n",
    "        print('Welcome User!!')\n",
    "        result = func(*args,**kwargs)\n",
    "        print(f\"Results is {result}\")\n",
    "        print('Thank You...')\n",
    "        return result\n",
    "    \n",
    "    return wrapper "
   ]
  },
  {
   "cell_type": "markdown",
   "metadata": {},
   "source": [
    "#### Applying decorator on user function"
   ]
  },
  {
   "cell_type": "code",
   "execution_count": 6,
   "metadata": {},
   "outputs": [],
   "source": [
    "@user\n",
    "def simple_intrest(p,n,r):\n",
    "    i = (p*n*r)/100\n",
    "    a = p+i\n",
    "    return i,a"
   ]
  },
  {
   "cell_type": "code",
   "execution_count": null,
   "metadata": {},
   "outputs": [
    {
     "name": "stdout",
     "output_type": "stream",
     "text": [
      "Welcome User!!\n",
      "Results is (4970.0, 39970.0)\n",
      "Thank You...\n"
     ]
    }
   ],
   "source": [
    "# inputs given in kwargs\n",
    "r1 = simple_intrest(p=35000,n=2,r=7.1)"
   ]
  },
  {
   "cell_type": "code",
   "execution_count": 8,
   "metadata": {},
   "outputs": [
    {
     "name": "stdout",
     "output_type": "stream",
     "text": [
      "Welcome User!!\n",
      "Results is (19750.0, 69750.0)\n",
      "Thank You...\n"
     ]
    }
   ],
   "source": [
    "# input as args\n",
    "r2 = simple_intrest(50000,5,7.9)"
   ]
  },
  {
   "cell_type": "code",
   "execution_count": null,
   "metadata": {},
   "outputs": [],
   "source": [
    "# another scenario to find hypoteneous by decorator\n",
    "@user\n",
    "def hypo(a,b):\n",
    "    c=(a**2 + b**2)**(1/2)\n",
    "    return c"
   ]
  },
  {
   "cell_type": "code",
   "execution_count": 10,
   "metadata": {},
   "outputs": [
    {
     "name": "stdout",
     "output_type": "stream",
     "text": [
      "Welcome User!!\n",
      "Results is 5.0\n",
      "Thank You...\n"
     ]
    }
   ],
   "source": [
    "h1 = hypo(3,4)"
   ]
  },
  {
   "cell_type": "code",
   "execution_count": 11,
   "metadata": {},
   "outputs": [
    {
     "name": "stdout",
     "output_type": "stream",
     "text": [
      "Welcome User!!\n",
      "Results is 8.323460818673924\n",
      "Thank You...\n"
     ]
    }
   ],
   "source": [
    "h2 = hypo(6.8,4.8)"
   ]
  },
  {
   "cell_type": "markdown",
   "metadata": {},
   "source": [
    "#### to check the time required for code execution"
   ]
  },
  {
   "cell_type": "code",
   "execution_count": 12,
   "metadata": {},
   "outputs": [],
   "source": [
    "import time"
   ]
  },
  {
   "cell_type": "code",
   "execution_count": 14,
   "metadata": {},
   "outputs": [
    {
     "name": "stdout",
     "output_type": "stream",
     "text": [
      "Hello!!!\n"
     ]
    }
   ],
   "source": [
    "time.sleep(5)   # this cell will run after 5 seconds\n",
    "print('Hello!!!')"
   ]
  },
  {
   "cell_type": "code",
   "execution_count": 15,
   "metadata": {},
   "outputs": [
    {
     "name": "stdout",
     "output_type": "stream",
     "text": [
      "125000\n",
      "Time required for execution is 783900 nano seconds\n"
     ]
    }
   ],
   "source": [
    "# measuring time in nanoseconds\n",
    "start = time.perf_counter_ns()\n",
    "print(50**3)\n",
    "stop = time.perf_counter_ns()\n",
    "dur = stop - start\n",
    "print(f\"Time required for execution is {dur} nano seconds\")"
   ]
  },
  {
   "cell_type": "code",
   "execution_count": 17,
   "metadata": {},
   "outputs": [
    {
     "name": "stdout",
     "output_type": "stream",
     "text": [
      "Welcome user!!\n",
      "This is Advance Python Batch.\n",
      "Time required is 5.003987999982201 seconds\n"
     ]
    }
   ],
   "source": [
    "#measuring time in seconds\n",
    "start = time.perf_counter()\n",
    "time.sleep(2)\n",
    "print('Welcome user!!')\n",
    "time.sleep(3)\n",
    "print('This is Advance Python Batch.')\n",
    "stop = time.perf_counter()\n",
    "dur = stop - start\n",
    "time.sleep(1)\n",
    "print(f\"Time required is {dur} seconds\")"
   ]
  },
  {
   "cell_type": "code",
   "execution_count": 18,
   "metadata": {},
   "outputs": [],
   "source": [
    "def time_decorator(func):\n",
    "    def wrapper(*args,**kwargs):\n",
    "        start = time.perf_counter()\n",
    "        res = func(*args,**kwargs)\n",
    "        print(f\"Results is {res}\")\n",
    "        stop = time.perf_counter()\n",
    "        dur = stop - start\n",
    "        print(f\"Duration = {dur} seconds\")\n",
    "        return res\n",
    "    \n",
    "    return wrapper"
   ]
  },
  {
   "cell_type": "code",
   "execution_count": 19,
   "metadata": {},
   "outputs": [],
   "source": [
    "@time_decorator\n",
    "def even_odd(num):\n",
    "    time.sleep(3)\n",
    "    if num%2==0:\n",
    "        return 'even'\n",
    "    else:\n",
    "        return 'odd'"
   ]
  },
  {
   "cell_type": "code",
   "execution_count": 20,
   "metadata": {},
   "outputs": [
    {
     "name": "stdout",
     "output_type": "stream",
     "text": [
      "Results is odd\n",
      "Duration = 3.001126000075601 seconds\n"
     ]
    },
    {
     "data": {
      "text/plain": [
       "'odd'"
      ]
     },
     "execution_count": 20,
     "metadata": {},
     "output_type": "execute_result"
    }
   ],
   "source": [
    "even_odd(51)"
   ]
  },
  {
   "cell_type": "code",
   "execution_count": 21,
   "metadata": {},
   "outputs": [],
   "source": [
    "@time_decorator\n",
    "def sqr_list(num : list[int|float]) -> list[int|float]:\n",
    "    s=[]\n",
    "    for i in num :\n",
    "        time.sleep(1)\n",
    "        r = i**2\n",
    "        print(f\"Square of number {i} is {r}\")\n",
    "        s.append(r)\n",
    "\n",
    "    return s"
   ]
  },
  {
   "cell_type": "code",
   "execution_count": 22,
   "metadata": {},
   "outputs": [],
   "source": [
    "l1 = [2,5,9,78,5,64,47]"
   ]
  },
  {
   "cell_type": "code",
   "execution_count": 23,
   "metadata": {},
   "outputs": [
    {
     "name": "stdout",
     "output_type": "stream",
     "text": [
      "Square of number 2 is 4\n",
      "Square of number 5 is 25\n",
      "Square of number 9 is 81\n",
      "Square of number 78 is 6084\n",
      "Square of number 5 is 25\n",
      "Square of number 64 is 4096\n",
      "Square of number 47 is 2209\n",
      "Results is [4, 25, 81, 6084, 25, 4096, 2209]\n",
      "Duration = 7.010599399916828 seconds\n"
     ]
    }
   ],
   "source": [
    "s1 = sqr_list(l1)"
   ]
  },
  {
   "cell_type": "code",
   "execution_count": 24,
   "metadata": {},
   "outputs": [],
   "source": [
    "l2 = [25.6,43.6,52.8,47,21]"
   ]
  },
  {
   "cell_type": "code",
   "execution_count": 25,
   "metadata": {},
   "outputs": [
    {
     "name": "stdout",
     "output_type": "stream",
     "text": [
      "Square of number 25.6 is 655.3600000000001\n",
      "Square of number 43.6 is 1900.96\n",
      "Square of number 52.8 is 2787.8399999999997\n",
      "Square of number 47 is 2209\n",
      "Square of number 21 is 441\n",
      "Results is [655.3600000000001, 1900.96, 2787.8399999999997, 2209, 441]\n",
      "Duration = 5.007794599980116 seconds\n"
     ]
    }
   ],
   "source": [
    "s2 = sqr_list(l2)"
   ]
  },
  {
   "cell_type": "markdown",
   "metadata": {},
   "source": [
    "### Anonymous function / Lambda function\n",
    "- lambda function is used to write a function in a single line\n",
    "- it is also known as anonymous function"
   ]
  },
  {
   "cell_type": "code",
   "execution_count": 26,
   "metadata": {},
   "outputs": [],
   "source": [
    "# lambda function to get square of a single number \n",
    "square = lambda n : n**2"
   ]
  },
  {
   "cell_type": "code",
   "execution_count": 29,
   "metadata": {},
   "outputs": [
    {
     "data": {
      "text/plain": [
       "144"
      ]
     },
     "execution_count": 29,
     "metadata": {},
     "output_type": "execute_result"
    }
   ],
   "source": [
    "square(12)"
   ]
  },
  {
   "cell_type": "code",
   "execution_count": 30,
   "metadata": {},
   "outputs": [],
   "source": [
    "# simple intrest using lambda function\n",
    "si = lambda p,n,r :(p*n*r)/100"
   ]
  },
  {
   "cell_type": "code",
   "execution_count": 33,
   "metadata": {},
   "outputs": [
    {
     "data": {
      "text/plain": [
       "11640.0"
      ]
     },
     "execution_count": 33,
     "metadata": {},
     "output_type": "execute_result"
    }
   ],
   "source": [
    "si1 = si(40000,3,9.7)\n",
    "time.sleep(3)\n",
    "si1"
   ]
  },
  {
   "cell_type": "code",
   "execution_count": 34,
   "metadata": {},
   "outputs": [],
   "source": [
    "# find even and odd \n",
    "eo = lambda n : 'even' if n%2==0 else 'odd'"
   ]
  },
  {
   "cell_type": "code",
   "execution_count": 35,
   "metadata": {},
   "outputs": [
    {
     "data": {
      "text/plain": [
       "'odd'"
      ]
     },
     "execution_count": 35,
     "metadata": {},
     "output_type": "execute_result"
    }
   ],
   "source": [
    "eo(25)"
   ]
  },
  {
   "cell_type": "code",
   "execution_count": 36,
   "metadata": {},
   "outputs": [],
   "source": [
    "# calcukate cube of numbers from givn=en list\n",
    "cube = lambda numbers : [i**3 for i in numbers]"
   ]
  },
  {
   "cell_type": "code",
   "execution_count": 37,
   "metadata": {},
   "outputs": [
    {
     "data": {
      "text/plain": [
       "[125, 343, 729, 64, 27, 64, 8]"
      ]
     },
     "execution_count": 37,
     "metadata": {},
     "output_type": "execute_result"
    }
   ],
   "source": [
    "c1 = [5,7,9,4,3,4,2]\n",
    "time.sleep(2)\n",
    "cube(c1)"
   ]
  },
  {
   "cell_type": "code",
   "execution_count": null,
   "metadata": {},
   "outputs": [
    {
     "name": "stdout",
     "output_type": "stream",
     "text": [
      " 375.0,5375.0\n"
     ]
    }
   ],
   "source": [
    "# created myself\n",
    "def user1(p,n,r): \n",
    "    i = (p*n*r)/100 \n",
    "    a = p + i \n",
    "    return i,a \n",
    "    \n",
    "i,a = user1(p=5000,n=3,r=2.5)\n",
    "print(f\" {i},{a}\")"
   ]
  },
  {
   "cell_type": "code",
   "execution_count": null,
   "metadata": {},
   "outputs": [],
   "source": []
  }
 ],
 "metadata": {
  "kernelspec": {
   "display_name": "venv",
   "language": "python",
   "name": "python3"
  },
  "language_info": {
   "codemirror_mode": {
    "name": "ipython",
    "version": 3
   },
   "file_extension": ".py",
   "mimetype": "text/x-python",
   "name": "python",
   "nbconvert_exporter": "python",
   "pygments_lexer": "ipython3",
   "version": "3.13.2"
  }
 },
 "nbformat": 4,
 "nbformat_minor": 2
}
