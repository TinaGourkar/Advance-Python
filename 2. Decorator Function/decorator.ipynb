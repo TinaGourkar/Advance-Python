{
 "cells": [
  {
   "cell_type": "markdown",
   "metadata": {},
   "source": [
    "# Decorator \n",
    "1. used to modify behaviour of a function\n",
    "2. I/P of decorator can be any function\n",
    "3. O/P is known as wrapper\n",
    "- decorator - take function as input and give output a function as well also known as wrapper\n",
    "- @welcome is a name of a decorator i.e @ is used to call and apply decorator "
   ]
  },
  {
   "cell_type": "markdown",
   "metadata": {},
   "source": [
    "### Create a decorator function that will welcome and thank the user"
   ]
  },
  {
   "cell_type": "code",
   "execution_count": 4,
   "metadata": {},
   "outputs": [],
   "source": [
    "def user(func):\n",
    "    def wrapper(*args,**kwargs):\n",
    "        print('Welcome User!!')\n",
    "        result = func(*args,**kwargs)\n",
    "        print(f\"Results is {result}\")\n",
    "        print('Thank You...')\n",
    "        return result\n",
    "    \n",
    "    return wrapper "
   ]
  },
  {
   "cell_type": "markdown",
   "metadata": {},
   "source": [
    "#### Applying decorator on user function"
   ]
  },
  {
   "cell_type": "code",
   "execution_count": 6,
   "metadata": {},
   "outputs": [],
   "source": [
    "@user\n",
    "def simple_intrest(p,n,r):\n",
    "    i = (p*n*r)/100\n",
    "    a = p+i\n",
    "    return i,a"
   ]
  },
  {
   "cell_type": "code",
   "execution_count": null,
   "metadata": {},
   "outputs": [
    {
     "name": "stdout",
     "output_type": "stream",
     "text": [
      "Welcome User!!\n",
      "Results is (4970.0, 39970.0)\n",
      "Thank You...\n"
     ]
    }
   ],
   "source": [
    "# inputs given in kwargs\n",
    "r1 = simple_intrest(p=35000,n=2,r=7.1)"
   ]
  },
  {
   "cell_type": "code",
   "execution_count": 8,
   "metadata": {},
   "outputs": [
    {
     "name": "stdout",
     "output_type": "stream",
     "text": [
      "Welcome User!!\n",
      "Results is (19750.0, 69750.0)\n",
      "Thank You...\n"
     ]
    }
   ],
   "source": [
    "# input as args\n",
    "r2 = simple_intrest(50000,5,7.9)"
   ]
  },
  {
   "cell_type": "code",
   "execution_count": null,
   "metadata": {},
   "outputs": [],
   "source": [
    "# another scenario to find hypoteneous by decorator\n",
    "@user\n",
    "def hypo(a,b):\n",
    "    c=(a**2 + b**2)**(1/2)\n",
    "    return c"
   ]
  },
  {
   "cell_type": "code",
   "execution_count": 10,
   "metadata": {},
   "outputs": [
    {
     "name": "stdout",
     "output_type": "stream",
     "text": [
      "Welcome User!!\n",
      "Results is 5.0\n",
      "Thank You...\n"
     ]
    }
   ],
   "source": [
    "h1 = hypo(3,4)"
   ]
  },
  {
   "cell_type": "code",
   "execution_count": 11,
   "metadata": {},
   "outputs": [
    {
     "name": "stdout",
     "output_type": "stream",
     "text": [
      "Welcome User!!\n",
      "Results is 8.323460818673924\n",
      "Thank You...\n"
     ]
    }
   ],
   "source": [
    "h2 = hypo(6.8,4.8)"
   ]
  },
  {
   "cell_type": "code",
   "execution_count": null,
   "metadata": {},
   "outputs": [],
   "source": []
  },
  {
   "cell_type": "markdown",
   "metadata": {},
   "source": [
    "- lambda function is used to write a function in a single line\n",
    "- it is also known as anonymous function"
   ]
  }
 ],
 "metadata": {
  "kernelspec": {
   "display_name": "venv",
   "language": "python",
   "name": "python3"
  },
  "language_info": {
   "codemirror_mode": {
    "name": "ipython",
    "version": 3
   },
   "file_extension": ".py",
   "mimetype": "text/x-python",
   "name": "python",
   "nbconvert_exporter": "python",
   "pygments_lexer": "ipython3",
   "version": "3.13.2"
  }
 },
 "nbformat": 4,
 "nbformat_minor": 2
}
